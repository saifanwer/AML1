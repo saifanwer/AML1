{
 "cells": [
  {
   "cell_type": "markdown",
   "metadata": {},
   "source": [
    "## Problem\n",
    "Given the possible positions of a Connect-4 game, predict the outcome of the match. The dataset is given [here](http://archive.ics.uci.edu/ml/datasets/connect-4).\n",
    "\n",
    "### Cleaning the raw data\n",
    "Procure the feature matrix (X), and the target vector (y) from the .data file \n"
   ]
  },
  {
   "cell_type": "code",
   "execution_count": 1,
   "metadata": {},
   "outputs": [],
   "source": [
    "import pandas as pd\n",
    "\n",
    "allData = pd.read_csv(r'C:\\Users\\Saif\\.anaconda\\connect-4.data',header=None)                      #returns a DataFrame\n",
    "y = allData.values[:,42]                                            #separating y\n",
    "feature = allData.loc[:,0:41]                                            #separating X\n",
    "one_hot = pd.get_dummies(feature,drop_first = True)                      #One Hot Encoding\n",
    "X = one_hot.values"
   ]
  },
  {
   "cell_type": "code",
   "execution_count": 2,
   "metadata": {},
   "outputs": [
    {
     "data": {
      "text/plain": [
       "array([[0, 0, 0, ..., 0, 0, 0],\n",
       "       [0, 0, 0, ..., 0, 0, 0],\n",
       "       [0, 0, 0, ..., 0, 0, 0],\n",
       "       ...,\n",
       "       [0, 1, 0, ..., 0, 0, 0],\n",
       "       [0, 1, 1, ..., 1, 0, 0],\n",
       "       [0, 1, 1, ..., 0, 0, 0]], dtype=uint8)"
      ]
     },
     "execution_count": 2,
     "metadata": {},
     "output_type": "execute_result"
    }
   ],
   "source": [
    "X"
   ]
  },
  {
   "cell_type": "code",
   "execution_count": 3,
   "metadata": {},
   "outputs": [
    {
     "data": {
      "text/plain": [
       "array(['win', 'win', 'win', ..., 'loss', 'draw', 'draw'], dtype=object)"
      ]
     },
     "execution_count": 3,
     "metadata": {},
     "output_type": "execute_result"
    }
   ],
   "source": [
    "y"
   ]
  },
  {
   "cell_type": "code",
   "execution_count": 4,
   "metadata": {},
   "outputs": [],
   "source": [
    "from sklearn.metrics import accuracy_score, confusion_matrix\n",
    "from sklearn.model_selection import KFold\n",
    "import numpy as np"
   ]
  },
  {
   "cell_type": "markdown",
   "metadata": {},
   "source": [
    "## 10-fold Cross Validation\n",
    "The data is divided into 10 parts. A model is trained on 9/10th of the data, then tested on the \n",
    "remaining fraction. The process is repeated for each fraction to be used as the test data.\n",
    "\n",
    "## Decision Tree\n",
    "A decision tree is a structure that includes a root node, branches, and leaf nodes. Each internal node denotes a test on an attribute, each branch denotes the outcome of a test, and each leaf node holds a class label. The topmost node in the tree is the root node."
   ]
  },
  {
   "cell_type": "code",
   "execution_count": 5,
   "metadata": {},
   "outputs": [
    {
     "name": "stdout",
     "output_type": "stream",
     "text": [
      "Launching Decision Tree Classifier\n",
      "MEAN ACCURACY =  68.57005314573026 %\n",
      "MEAN CONFUSION MATRIX =  [[ 1579.  1994.  2876.]\n",
      " [ 1982.  9872.  4781.]\n",
      " [ 3727.  5873. 34873.]]\n"
     ]
    }
   ],
   "source": [
    "from sklearn.tree import DecisionTreeClassifier\n",
    "kf = KFold(n_splits = 10)\n",
    "acc=0\n",
    "conf = np.zeros((3,3))\n",
    "\n",
    "clf = DecisionTreeClassifier(criterion='entropy',random_state = 0)\n",
    "print('Launching Decision Tree Classifier')                              #iterate over the 10Fold generator\n",
    "fold = 0\n",
    "for itrain, itest in kf.split(X):\n",
    "    clf=clf.fit(X[itrain],y[itrain])\n",
    "\n",
    "    pred = clf.predict(X[itest])\n",
    "\n",
    "    score = 100*accuracy_score(y[itest],pred)                            #check accuracy\n",
    "    acc = acc + score\n",
    "    \n",
    "    conf += confusion_matrix(y[itest],pred)\n",
    "   \n",
    "    #print('Accuracy for fold',fold,'=',score)\n",
    "    fold+=1\n",
    "print('MEAN ACCURACY = ',acc/10,'%')\n",
    "print('MEAN CONFUSION MATRIX = ',conf)"
   ]
  },
  {
   "cell_type": "markdown",
   "metadata": {},
   "source": [
    "## Naive Bayesian\n",
    "The Naive Bayes Classifier technique is based on the so-called Bayesian theorem and is particularly suited when the dimensionality of the inputs is high. Despite its simplicity, Naive Bayes can often outperform more sophisticated classification methods."
   ]
  },
  {
   "cell_type": "code",
   "execution_count": 6,
   "metadata": {},
   "outputs": [
    {
     "name": "stdout",
     "output_type": "stream",
     "text": [
      "Launching Naive Bayesian Classifier\n",
      "MEAN ACCURACY =  71.49049012660404 %\n",
      "MEAN CONFUSION MATRIX =  [[   83.   748.  5618.]\n",
      " [  200.  6170. 10265.]\n",
      " [  228.  2201. 42044.]]\n"
     ]
    }
   ],
   "source": [
    "from sklearn.naive_bayes import MultinomialNB\n",
    "print('Launching Naive Bayesian Classifier')\n",
    "kf = KFold(n_splits = 10)\n",
    "fold = 0\n",
    "acc=0\n",
    "conf = np.zeros((3,3))\n",
    "clf= MultinomialNB()\n",
    "for itrain, itest in kf.split(X):\n",
    "    clf=clf.fit(X[itrain],y[itrain])\n",
    "    #print('Test indices for fold',fold,itest)\n",
    "    pred = clf.predict(X[itest])\n",
    "    #print(pred.tolist())\n",
    "    score = 100*accuracy_score(y[itest],pred)\n",
    "    acc = acc+score\n",
    "    conf += confusion_matrix(y[itest],pred)\n",
    "    #print('Accuracy for fold',fold,'=',score)\n",
    "    fold+=1\n",
    "print('MEAN ACCURACY = ',acc/10,'%')\n",
    "print('MEAN CONFUSION MATRIX = ',conf)"
   ]
  },
  {
   "cell_type": "markdown",
   "metadata": {},
   "source": [
    "## SVM\n",
    "A Support Vector Machine (SVM) is a discriminative classifier formally defined by a separating hyperplane. In other words, given labeled training data (supervised learning), the algorithm outputs an optimal hyperplane which categorizes new examples. In two dimentional space this hyperplane is a line dividing a plane in two parts where in each class lay in either side."
   ]
  },
  {
   "cell_type": "code",
   "execution_count": 7,
   "metadata": {},
   "outputs": [
    {
     "name": "stdout",
     "output_type": "stream",
     "text": [
      "Launching SVM Classifier\n",
      "MEAN ACCURACY =  74.80032048711588 %\n",
      "MEAN CONFUSION MATRIX =  [[2.1000e+01 1.5490e+03 4.8790e+03]\n",
      " [1.1000e+01 9.9790e+03 6.6450e+03]\n",
      " [3.1000e+01 3.9090e+03 4.0533e+04]]\n"
     ]
    }
   ],
   "source": [
    "from sklearn.svm import LinearSVC\n",
    "kf = KFold(n_splits = 10)\n",
    "print('Launching SVM Classifier')\n",
    "fold = 0\n",
    "acc = 0\n",
    "conf = np.zeros((3,3))\n",
    "clf = LinearSVC()\n",
    "for itrain, itest in kf.split(X):\n",
    "    clf = clf.fit(X[itrain],y[itrain])\n",
    "    #print('Test indices for fold',fold,itest)\n",
    "    pred = clf.predict(X[itest])\n",
    "    #print(pred.tolist())\n",
    "    score = 100*accuracy_score(y[itest],pred)\n",
    "    acc = acc+score\n",
    "    conf += confusion_matrix(y[itest],pred)\n",
    "    #print('Accuracy for fold',fold,'=',score)\n",
    "    fold+=1\n",
    "print('MEAN ACCURACY = ',acc/10,'%')\n",
    "print('MEAN CONFUSION MATRIX = ',conf)"
   ]
  }
 ],
 "metadata": {
  "kernelspec": {
   "display_name": "Python 3",
   "language": "python",
   "name": "python3"
  },
  "language_info": {
   "codemirror_mode": {
    "name": "ipython",
    "version": 3
   },
   "file_extension": ".py",
   "mimetype": "text/x-python",
   "name": "python",
   "nbconvert_exporter": "python",
   "pygments_lexer": "ipython3",
   "version": "3.7.1"
  }
 },
 "nbformat": 4,
 "nbformat_minor": 2
}
