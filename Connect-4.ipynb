{
 "cells": [
  {
   "cell_type": "markdown",
   "metadata": {},
   "source": [
    "## Problem\n",
    "Given the possible positions of a Connect-4 game, predict the outcome of the match. The dataset is given [here](http://archive.ics.uci.edu/ml/datasets/connect-4).\n",
    "\n",
    "### Cleaning the raw data\n",
    "Procure the feature matrix (X), and the target vector (y) from the .data file \n"
   ]
  },
  {
   "cell_type": "code",
   "execution_count": 1,
   "metadata": {},
   "outputs": [],
   "source": [
    "import pandas as pd\n",
    "\n",
    "allData = pd.read_csv('connect-4.data',header=None)                      #returns a DataFrame\n",
    "y = allData.values[:,42]                                            #separating y\n",
    "feature = allData.loc[:,0:41]                                            #separating X\n",
    "one_hot = pd.get_dummies(feature,drop_first = True)                      #One Hot Encoding\n",
    "X = one_hot.values"
   ]
  },
  {
   "cell_type": "code",
   "execution_count": 2,
   "metadata": {},
   "outputs": [
    {
     "data": {
      "text/plain": [
       "array([[0, 0, 0, ..., 0, 0, 0],\n",
       "       [0, 0, 0, ..., 0, 0, 0],\n",
       "       [0, 0, 0, ..., 0, 0, 0],\n",
       "       ..., \n",
       "       [0, 1, 0, ..., 0, 0, 0],\n",
       "       [0, 1, 1, ..., 1, 0, 0],\n",
       "       [0, 1, 1, ..., 0, 0, 0]], dtype=uint8)"
      ]
     },
     "execution_count": 2,
     "metadata": {},
     "output_type": "execute_result"
    }
   ],
   "source": [
    "X"
   ]
  },
  {
   "cell_type": "code",
   "execution_count": 3,
   "metadata": {},
   "outputs": [
    {
     "data": {
      "text/plain": [
       "array(['win', 'win', 'win', ..., 'loss', 'draw', 'draw'], dtype=object)"
      ]
     },
     "execution_count": 3,
     "metadata": {},
     "output_type": "execute_result"
    }
   ],
   "source": [
    "y"
   ]
  },
  {
   "cell_type": "code",
   "execution_count": 4,
   "metadata": {},
   "outputs": [],
   "source": [
    "from sklearn.metrics import accuracy_score\n",
    "from sklearn.model_selection import KFold"
   ]
  },
  {
   "cell_type": "markdown",
   "metadata": {},
   "source": [
    "## 10-fold Cross Validation\n",
    "The data is divided into 10 parts. A model is trained on 9/10th of the data, then tested on the \n",
    "remaining fraction. The process is repeated for each fraction to be used as the test data.\n",
    "\n",
    "## Decision Tree\n",
    "A decision tree is a structure that includes a root node, branches, and leaf nodes. Each internal node denotes a test on an attribute, each branch denotes the outcome of a test, and each leaf node holds a class label. The topmost node in the tree is the root node."
   ]
  },
  {
   "cell_type": "code",
   "execution_count": 5,
   "metadata": {},
   "outputs": [
    {
     "name": "stdout",
     "output_type": "stream",
     "text": [
      "Launching Decision Tree Classifier\n",
      "Accuracy for fold 0 = 62.0485494375\n",
      "Accuracy for fold 1 = 76.7613972765\n",
      "Accuracy for fold 2 = 76.5245707519\n",
      "Accuracy for fold 3 = 71.6696269982\n",
      "Accuracy for fold 4 = 64.8608644168\n",
      "Accuracy for fold 5 = 70.026642984\n",
      "Accuracy for fold 6 = 71.0183540557\n",
      "Accuracy for fold 7 = 67.5795706884\n",
      "Accuracy for fold 8 = 59.763138416\n",
      "Accuracy for fold 9 = 65.4478164323\n",
      "MEAN ACCURACY =  68.5700531457 %\n"
     ]
    }
   ],
   "source": [
    "from sklearn.tree import DecisionTreeClassifier\n",
    "kf = KFold(n_splits = 10)\n",
    "acc=0\n",
    "clf = DecisionTreeClassifier(criterion='entropy',random_state = 0)\n",
    "print('Launching Decision Tree Classifier')                              #iterate over the 10Fold generator\n",
    "fold = 0\n",
    "for itrain, itest in kf.split(X):\n",
    "\tclf=clf.fit(X[itrain],y[itrain])\n",
    "\n",
    "\tpred = clf.predict(X[itest])\n",
    "\n",
    "\tscore = 100*accuracy_score(y[itest],pred)                            #check accuracy\n",
    "\tacc = acc + score\n",
    "\tprint('Accuracy for fold',fold,'=',score)\n",
    "\tfold+=1\n",
    "print('MEAN ACCURACY = ',acc/10,'%')"
   ]
  },
  {
   "cell_type": "markdown",
   "metadata": {},
   "source": [
    "## Naive Bayesian\n",
    "The Naive Bayes Classifier technique is based on the so-called Bayesian theorem and is particularly suited when the dimensionality of the inputs is high. Despite its simplicity, Naive Bayes can often outperform more sophisticated classification methods."
   ]
  },
  {
   "cell_type": "code",
   "execution_count": 6,
   "metadata": {},
   "outputs": [
    {
     "name": "stdout",
     "output_type": "stream",
     "text": [
      "Launching Naive Bayesian Classifier\n",
      "Accuracy for fold 0 = 65.6601539372\n",
      "Accuracy for fold 1 = 82.4452338662\n",
      "Accuracy for fold 2 = 82.9780935465\n",
      "Accuracy for fold 3 = 73.6530491415\n",
      "Accuracy for fold 4 = 67.5103611604\n",
      "Accuracy for fold 5 = 69.0053285968\n",
      "Accuracy for fold 6 = 76.1397276495\n",
      "Accuracy for fold 7 = 72.5092524056\n",
      "Accuracy for fold 8 = 62.6646928201\n",
      "Accuracy for fold 9 = 62.3390081421\n",
      "MEAN ACCURACY =  71.4904901266 %\n"
     ]
    }
   ],
   "source": [
    "from sklearn.naive_bayes import MultinomialNB\n",
    "print('Launching Naive Bayesian Classifier')\n",
    "kf = KFold(n_splits = 10)\n",
    "fold = 0\n",
    "acc=0\n",
    "clf= MultinomialNB()\n",
    "for itrain, itest in kf.split(X):\n",
    "\tclf=clf.fit(X[itrain],y[itrain])\n",
    "\t#print('Test indices for fold',fold,itest)\n",
    "\tpred = clf.predict(X[itest])\n",
    "\t#print(pred.tolist())\n",
    "\tscore = 100*accuracy_score(y[itest],pred)\n",
    "\tacc = acc+score\n",
    "\tprint('Accuracy for fold',fold,'=',score)\n",
    "\tfold+=1\n",
    "print('MEAN ACCURACY = ',acc/10,'%')\n"
   ]
  },
  {
   "cell_type": "markdown",
   "metadata": {},
   "source": [
    "## SVM\n",
    "A Support Vector Machine (SVM) is a discriminative classifier formally defined by a separating hyperplane. In other words, given labeled training data (supervised learning), the algorithm outputs an optimal hyperplane which categorizes new examples. In two dimentional space this hyperplane is a line dividing a plane in two parts where in each class lay in either side."
   ]
  },
  {
   "cell_type": "code",
   "execution_count": 7,
   "metadata": {},
   "outputs": [
    {
     "name": "stdout",
     "output_type": "stream",
     "text": [
      "Launching SVM Classifier\n",
      "Accuracy for fold 0 = 72.3801065719\n",
      "Accuracy for fold 1 = 82.7116637063\n",
      "Accuracy for fold 2 = 84.0290112493\n",
      "Accuracy for fold 3 = 78.2415630551\n",
      "Accuracy for fold 4 = 70.1302545885\n",
      "Accuracy for fold 5 = 72.2616933097\n",
      "Accuracy for fold 6 = 78.5968028419\n",
      "Accuracy for fold 7 = 73.5011102887\n",
      "Accuracy for fold 8 = 67.0318282754\n",
      "Accuracy for fold 9 = 69.1191709845\n",
      "MEAN ACCURACY =  74.8003204871 %\n"
     ]
    }
   ],
   "source": [
    "from sklearn.svm import LinearSVC\n",
    "kf = KFold(n_splits = 10)\n",
    "print('Launching SVM Classifier')\n",
    "fold = 0\n",
    "acc = 0\n",
    "clf = LinearSVC()\n",
    "for itrain, itest in kf.split(X):\n",
    "\tclf = clf.fit(X[itrain],y[itrain])\n",
    "\t#print('Test indices for fold',fold,itest)\n",
    "\tpred = clf.predict(X[itest])\n",
    "\t#print(pred.tolist())\n",
    "\tscore = 100*accuracy_score(y[itest],pred)\n",
    "\tacc = acc+score\n",
    "\tprint('Accuracy for fold',fold,'=',score)\n",
    "\tfold+=1\n",
    "print('MEAN ACCURACY = ',acc/10,'%')"
   ]
  },
  {
   "cell_type": "code",
   "execution_count": null,
   "metadata": {},
   "outputs": [],
   "source": []
  }
 ],
 "metadata": {
  "kernelspec": {
   "display_name": "Python 3",
   "language": "python",
   "name": "python3"
  },
  "language_info": {
   "codemirror_mode": {
    "name": "ipython",
    "version": 3
   },
   "file_extension": ".py",
   "mimetype": "text/x-python",
   "name": "python",
   "nbconvert_exporter": "python",
   "pygments_lexer": "ipython3",
   "version": "3.6.6"
  }
 },
 "nbformat": 4,
 "nbformat_minor": 2
}
